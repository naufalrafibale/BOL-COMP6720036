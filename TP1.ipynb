{
 "cells": [
  {
   "cell_type": "code",
   "execution_count": 6,
   "metadata": {},
   "outputs": [],
   "source": [
    "import pandas as pd\n",
    "import json\n",
    "\n",
    "json_data = [\n",
    " {\n",
    "   \"No\": 1,\n",
    "   \"JenisKelamin\": \"Laki-Laki\",\n",
    "   \"UmurKaryawan\": 20,\n",
    "   \"Gaji\": 8000000,\n",
    "   \"Transportasi\": \"Kendaraan Pribadi\"\n",
    " },\n",
    " {\n",
    "   \"No\": 2,\n",
    "   \"JenisKelamin\": \"Laki-Laki\",\n",
    "   \"UmurKaryawan\": 35,\n",
    "   \"Gaji\": 14000000,\n",
    "   \"Transportasi\": \"Kendaraan Umum\"\n",
    " },\n",
    " {\n",
    "   \"No\": 3,\n",
    "   \"JenisKelamin\": \"Perempuan\",\n",
    "   \"UmurKaryawan\": 26,\n",
    "   \"Gaji\": 10000000,\n",
    "   \"Transportasi\": \"Kendaraan Umum\"\n",
    " },\n",
    " {\n",
    "   \"No\": 4,\n",
    "   \"JenisKelamin\": \"Perempuan\",\n",
    "   \"UmurKaryawan\": 27,\n",
    "   \"Gaji\": 12000000,\n",
    "   \"Transportasi\": \"Kendaraan Pribadi\"\n",
    " },\n",
    " {\n",
    "   \"No\": 5,\n",
    "   \"JenisKelamin\": \"Laki-Laki\",\n",
    "   \"UmurKaryawan\": 21,\n",
    "   \"Gaji\": 9000000,\n",
    "   \"Transportasi\": \"Kendaraan Pribadi\"\n",
    " },\n",
    " {\n",
    "   \"No\": 6,\n",
    "   \"JenisKelamin\": \"Laki-Laki\",\n",
    "   \"UmurKaryawan\": 22,\n",
    "   \"Gaji\": 11000000,\n",
    "   \"Transportasi\": \"Kendaraan Pribadi\"\n",
    " },\n",
    " {\n",
    "   \"No\": 7,\n",
    "   \"JenisKelamin\": \"Perempuan\",\n",
    "   \"UmurKaryawan\": 32,\n",
    "   \"Gaji\": 15000000,\n",
    "   \"Transportasi\": \"Kendaraan Umum\"\n",
    " },\n",
    " {\n",
    "   \"No\": 8,\n",
    "   \"JenisKelamin\": \"Perempuan\",\n",
    "   \"UmurKaryawan\": 26,\n",
    "   \"Gaji\": 8000000,\n",
    "   \"Transportasi\": \"Kendaraan Umum\"\n",
    " },\n",
    " {\n",
    "   \"No\": 9,\n",
    "   \"JenisKelamin\": \"Laki-Laki\",\n",
    "   \"UmurKaryawan\": 25,\n",
    "   \"Gaji\": 9000000,\n",
    "   \"Transportasi\": \"Kendaraan Umum\"\n",
    " },\n",
    " {\n",
    "   \"No\": 10,\n",
    "   \"JenisKelamin\": \"Perempuan\",\n",
    "   \"UmurKaryawan\": 20,\n",
    "   \"Gaji\": 10000000,\n",
    "   \"Transportasi\": \"Kendaraan Pribadi\"\n",
    " }\n",
    "]\n",
    "\n",
    "df = pd.DataFrame(json_data)"
   ]
  },
  {
   "cell_type": "code",
   "execution_count": 7,
   "metadata": {},
   "outputs": [],
   "source": [
    "def assign_jabatan(row):\n",
    "    if row >= 8000000 and row < 10000000:\n",
    "        jabatan = \"Officer\"\n",
    "    elif row >= 10000000 and row < 12000000:\n",
    "        jabatan = \"Supervisor\"\n",
    "    elif row >= 12000000 and row < 15000000:\n",
    "        jabatan = \"Asisten Manajer\"\n",
    "    elif row >= 15000000:\n",
    "        jabatan = \"Manager\"\n",
    "    else:\n",
    "        jabatan = None\n",
    "    return jabatan"
   ]
  },
  {
   "cell_type": "code",
   "execution_count": 8,
   "metadata": {},
   "outputs": [
    {
     "name": "stdout",
     "output_type": "stream",
     "text": [
      "   No JenisKelamin  UmurKaryawan      Gaji       Transportasi          Jabatan\n",
      "0   1    Laki-Laki            20   8000000  Kendaraan Pribadi          Officer\n",
      "1   2    Laki-Laki            35  14000000     Kendaraan Umum  Asisten Manajer\n",
      "2   3    Perempuan            26  10000000     Kendaraan Umum       Supervisor\n",
      "3   4    Perempuan            27  12000000  Kendaraan Pribadi  Asisten Manajer\n",
      "4   5    Laki-Laki            21   9000000  Kendaraan Pribadi          Officer\n",
      "5   6    Laki-Laki            22  11000000  Kendaraan Pribadi       Supervisor\n",
      "6   7    Perempuan            32  15000000     Kendaraan Umum          Manager\n",
      "7   8    Perempuan            26   8000000     Kendaraan Umum          Officer\n",
      "8   9    Laki-Laki            25   9000000     Kendaraan Umum          Officer\n",
      "9  10    Perempuan            20  10000000  Kendaraan Pribadi       Supervisor\n"
     ]
    }
   ],
   "source": [
    "df['Jabatan'] = df['Gaji'].apply(assign_jabatan)\n",
    "print(df)"
   ]
  },
  {
   "cell_type": "code",
   "execution_count": 20,
   "metadata": {},
   "outputs": [
    {
     "name": "stdout",
     "output_type": "stream",
     "text": [
      "6    15000000\n",
      "1    14000000\n",
      "3    12000000\n",
      "5    11000000\n",
      "2    10000000\n",
      "9    10000000\n",
      "4     9000000\n",
      "8     9000000\n",
      "0     8000000\n",
      "7     8000000\n",
      "Name: Gaji, dtype: int64\n",
      "Gaji terbesar: 15000000\n",
      "Gaji terkecil: 8000000\n"
     ]
    }
   ],
   "source": [
    "print(df['Gaji'].sort_values(ascending=False))\n",
    "print(\"Gaji terbesar:\", df['Gaji'].max())\n",
    "print(\"Gaji terkecil:\", df['Gaji'].min())"
   ]
  }
 ],
 "metadata": {
  "kernelspec": {
   "display_name": "bol_datascience_course",
   "language": "python",
   "name": "python3"
  },
  "language_info": {
   "codemirror_mode": {
    "name": "ipython",
    "version": 3
   },
   "file_extension": ".py",
   "mimetype": "text/x-python",
   "name": "python",
   "nbconvert_exporter": "python",
   "pygments_lexer": "ipython3",
   "version": "3.8.16"
  },
  "orig_nbformat": 4,
  "vscode": {
   "interpreter": {
    "hash": "2d593deec167ded72ed51e93167910bb3f96b3a7bf9b0ca95864a3437a020e1c"
   }
  }
 },
 "nbformat": 4,
 "nbformat_minor": 2
}
